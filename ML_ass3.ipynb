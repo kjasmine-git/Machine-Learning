{
  "nbformat": 4,
  "nbformat_minor": 0,
  "metadata": {
    "colab": {
      "provenance": []
    },
    "kernelspec": {
      "name": "python3",
      "display_name": "Python 3"
    },
    "language_info": {
      "name": "python"
    }
  },
  "cells": [
    {
      "cell_type": "code",
      "execution_count": null,
      "metadata": {
        "id": "ZjmaW6q1cORs",
        "colab": {
          "base_uri": "https://localhost:8080/"
        },
        "outputId": "cc4eda6c-62e6-48ef-c177-06b611c4584a"
      },
      "outputs": [
        {
          "output_type": "stream",
          "name": "stdout",
          "text": [
            "Mounted at /content/drive\n",
            "R2 score for 30% test data: 0.9176755577794673\n"
          ]
        }
      ],
      "source": [
        "import pandas as pd\n",
        "from sklearn.model_selection import KFold\n",
        "from sklearn.preprocessing import StandardScaler\n",
        "from sklearn.linear_model import LinearRegression\n",
        "from sklearn.metrics import r2_score\n",
        "# Load the dataset\n",
        "from google.colab import drive\n",
        "drive.mount('/content/drive')\n",
        "data = pd.read_csv('/content/drive/MyDrive/USA_Housing.csv')\n",
        "# Divide the dataset into input features and output variable\n",
        "X = data.drop('Price', axis=1)\n",
        "y = data['Price']\n",
        "# Scale the values of input features\n",
        "scaler = StandardScaler()\n",
        "X_scaled = scaler.fit_transform(X)\n",
        "\n",
        "# Divide input and output features into five folds\n",
        "kf = KFold(n_splits=5, shuffle=True, random_state=42)\n",
        "\n",
        "# Run five iterations\n",
        "best_beta = None\n",
        "best_r2_score = -float('inf')\n",
        "for train_index, test_index in kf.split(X_scaled):\n",
        "  X_train, X_test = X_scaled[train_index], X_scaled[test_index]\n",
        "  y_train, y_test = y.iloc[train_index], y.iloc[test_index]\n",
        "  # Find the beta matrix, predicted values, and R2_score\n",
        "  regressor = LinearRegression()\n",
        "  regressor.fit(X_train, y_train)\n",
        "  y_pred = regressor.predict(X_test)\n",
        "  r2 = r2_score(y_test, y_pred)\n",
        "  # Update the best beta matrix and R2_score\n",
        "  if r2 > best_r2_score:\n",
        "    best_r2_score = r2\n",
        "    best_beta = regressor.coef_\n",
        "\n",
        "# Train the regressor for 70% of data\n",
        "split_index = int(0.7 * len(X_scaled))\n",
        "X_train, X_test = X_scaled[:split_index], X_scaled[split_index:]\n",
        "y_train, y_test = y.iloc[:split_index], y.iloc[split_index:]\n",
        "regressor = LinearRegression()\n",
        "regressor.fit(X_train, y_train)\n",
        "regressor.coef_ = best_beta\n",
        "\n",
        "# Test the performance for remaining 30% data\n",
        "y_pred = regressor.predict(X_test)\n",
        "r2 = r2_score(y_test, y_pred)\n",
        "print('R2 score for 30% test data:', r2)"
      ]
    }
  ]
}