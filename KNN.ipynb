{
  "cells": [
    {
      "cell_type": "code",
      "execution_count": null,
      "metadata": {
        "colab": {
          "base_uri": "https://localhost:8080/"
        },
        "id": "YJ8nin9EmhL8",
        "outputId": "b9cdca4e-7e0d-4da1-b5a6-b7deff83efce"
      },
      "outputs": [
        {
          "output_type": "stream",
          "name": "stdout",
          "text": [
            "We expected 1.0, Got 1.0\n"
          ]
        }
      ],
      "source": [
        "from math import sqrt\n",
        "import numpy as np\n",
        "from sklearn.datasets import load_iris\n",
        "from sklearn.model_selection import train_test_split\n",
        "import pandas as pd\n",
        "\n",
        "# Load the Iris dataset\n",
        "iris = load_iris()\n",
        "y_iris = iris.target\n",
        "data = iris.data\n",
        "\n",
        "# Append target column to the data\n",
        "data = np.insert(data, 4, y_iris, axis=1)\n",
        "\n",
        "# Split the data into train and test sets\n",
        "train, test = train_test_split(data, test_size=0.25, random_state=42)\n",
        "\n",
        "# Function to calculate Euclidean distance\n",
        "def Euclidean_distance(row1, row2):\n",
        "    distance = 0\n",
        "    for i in range(len(row1) - 1):  # Exclude the label\n",
        "        distance += (row1[i] - row2[i]) ** 2\n",
        "    return sqrt(distance)\n",
        "\n",
        "# Function to get the nearest neighbors\n",
        "def Get_Neighbors(train, test_row, num):\n",
        "    distances = []\n",
        "    for train_row in train:\n",
        "        dist = Euclidean_distance(test_row, train_row)\n",
        "        distances.append((train_row, dist))\n",
        "    # Sort by distance\n",
        "    distances.sort(key=lambda x: x[1])\n",
        "    # Select the top `num` neighbors\n",
        "    neighbors = [dist[0] for dist in distances[:num]]\n",
        "    return neighbors\n",
        "\n",
        "# Function to predict the class\n",
        "def predict_classification(train, test_row, num):\n",
        "    neighbors = Get_Neighbors(train, test_row, num)\n",
        "    classes = [neighbor[-1] for neighbor in neighbors]\n",
        "    # Return the class with the highest count\n",
        "    prediction = max(set(classes), key=classes.count)\n",
        "    return prediction\n",
        "\n",
        "# Test the function on a single test instance\n",
        "test_instance = test[0]  # Use the first test instance\n",
        "prediction = predict_classification(train, test_instance, 5)\n",
        "print(\"We expected {}, Got {}\".format(test_instance[-1], prediction))\n",
        "\n"
      ]
    }
  ],
  "metadata": {
    "colab": {
      "provenance": []
    },
    "kernelspec": {
      "display_name": "Python 3",
      "name": "python3"
    },
    "language_info": {
      "name": "python"
    }
  },
  "nbformat": 4,
  "nbformat_minor": 0
}