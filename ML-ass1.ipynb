{
 "cells": [
  {
   "cell_type": "code",
   "execution_count": 3,
   "id": "22f4dc7d-aa04-424b-9f84-7889ad5fc533",
   "metadata": {},
   "outputs": [
    {
     "name": "stdout",
     "output_type": "stream",
     "text": [
      "[5 4 3 2 1]\n"
     ]
    }
   ],
   "source": [
    "import numpy as np\n",
    "arr=np.array([1,2,3,4,5])\n",
    "print(arr[::-1])"
   ]
  },
  {
   "cell_type": "code",
   "execution_count": 7,
   "id": "6a9a26f3-093d-44e4-a208-e0640bed7f3a",
   "metadata": {},
   "outputs": [
    {
     "name": "stdout",
     "output_type": "stream",
     "text": [
      "[1 2 3 4 5]\n",
      "[1 2 3 4 5]\n"
     ]
    }
   ],
   "source": [
    "import numpy as np\n",
    "array1=np.array([[1,2,3],[2,4,5],[1,2,3]])\n",
    "print(arr.flatten())\n",
    "print(arr.flatten('F'))"
   ]
  },
  {
   "cell_type": "code",
   "execution_count": 8,
   "id": "5e5cd52c-886b-4aa3-a857-5db0f81cf3bb",
   "metadata": {},
   "outputs": [
    {
     "name": "stdout",
     "output_type": "stream",
     "text": [
      "True\n"
     ]
    }
   ],
   "source": [
    "import numpy as np\n",
    "arr1=np.array([[1,2],[3,4]])\n",
    "arr2=np.array([[1,2],[3,4]])\n",
    "print(np.array_equal(arr1,arr2))"
   ]
  },
  {
   "cell_type": "code",
   "execution_count": 18,
   "id": "28e82957-23f5-40e0-857d-d7eb0d758783",
   "metadata": {},
   "outputs": [
    {
     "name": "stdout",
     "output_type": "stream",
     "text": [
      "1\n",
      "1 3 "
     ]
    }
   ],
   "source": [
    "import numpy as np\n",
    "x=np.array([1,2,3,4,5,1,2,1,1,1])\n",
    "y=np.array([1,1,1,2,3,4,2,4,3,3])\n",
    "print(np.bincount(x).argmax())\n",
    "n=np.bincount(y)\n",
    "for i in range(len(n)):\n",
    "    if n[i]==max(n):\n",
    "        print(i,end=\" \")\n"
   ]
  },
  {
   "cell_type": "code",
   "execution_count": 19,
   "id": "3eea98bf-4452-4df9-965c-1c9573d35ce3",
   "metadata": {},
   "outputs": [
    {
     "name": "stdout",
     "output_type": "stream",
     "text": [
      "45\n",
      "[[14]\n",
      " [16]\n",
      " [15]]\n",
      "[[20  9 16]]\n"
     ]
    }
   ],
   "source": [
    "import numpy as np\n",
    "gfg=np.matrix('[4,1,9;12,3,1;4,5,6]')\n",
    "print(np.sum(gfg))\n",
    "print(np.sum(gfg,axis=1))\n",
    "print(np.sum(gfg,axis=0))\n"
   ]
  },
  {
   "cell_type": "code",
   "execution_count": 22,
   "id": "424e4d7a-f2f5-4745-b441-16d083ebaf8e",
   "metadata": {},
   "outputs": [
    {
     "data": {
      "text/plain": [
       "(176,\n",
       " array([98.16835147, 28.097044  , 49.73460452]),\n",
       " array([[ 0.4574917 ,  0.34637121, -0.15017693],\n",
       "        [ 0.28447814, -0.72784061, -0.4852124 ],\n",
       "        [ 0.84248058,  0.59184038,  0.8614034 ]]),\n",
       " array([[ 0.02404141, -0.00911212, -0.00444671],\n",
       "        [-0.01667882,  0.02966905,  0.0024785 ],\n",
       "        [ 0.00631287, -0.01603732,  0.01217379]]),\n",
       " 137180.0000000001)"
      ]
     },
     "execution_count": 22,
     "metadata": {},
     "output_type": "execute_result"
    }
   ],
   "source": [
    "import numpy as np\n",
    "n_array = np.array([[55, 25, 15], [30, 44, 2], [11, 45, 77]])\n",
    "sum_diagonal = np.trace(n_array)\n",
    "eigen_values, eigen_vectors = np.linalg.eig(n_array)\n",
    "inverse_matrix = np.linalg.inv(n_array)\n",
    "determinant_matrix = np.linalg.det(n_array)\n",
    "sum_diagonal, eigen_values, eigen_vectors, inverse_matrix, determinant_matrix\n"
   ]
  },
  {
   "cell_type": "code",
   "execution_count": 27,
   "id": "f598b5f3-990c-4fab-a6b3-964615075571",
   "metadata": {},
   "outputs": [
    {
     "name": "stdout",
     "output_type": "stream",
     "text": [
      "[[16 19]\n",
      " [26 31]]\n",
      "[[0.66666667 1.        ]\n",
      " [1.         1.66666667]]\n"
     ]
    },
    {
     "data": {
      "text/plain": [
       "(array([[16, 19,  5],\n",
       "        [26, 31,  8],\n",
       "        [46, 55, 14]]),\n",
       " array([[2.16666667, 0.23333333],\n",
       "        [0.23333333, 5.36666667]]))"
      ]
     },
     "execution_count": 27,
     "metadata": {},
     "output_type": "execute_result"
    }
   ],
   "source": [
    "import numpy as np\n",
    "p1 = np.array([[1, 2], [2, 3]])\n",
    "q1 = np.array([[4, 5], [6, 7]])\n",
    "result_i = np.dot(p1, q1)\n",
    "covariance_i = np.cov(p1.flatten(), q1.flatten())\n",
    "print(result_i)\n",
    "print(covariance_i) \n",
    "\n",
    "p2 = np.array([[1, 2], [2, 3], [4, 5]])\n",
    "q2 = np.array([[4, 5, 1], [6, 7, 2]])\n",
    "result_ii = np.dot(p2, q2)\n",
    "covariance_ii = np.cov(p2.flatten(), q2.flatten()) \n",
    "result_ii, covariance_ii\n"
   ]
  },
  {
   "cell_type": "code",
   "execution_count": 2,
   "id": "24279e61-270b-4f17-9011-f1008447ec36",
   "metadata": {},
   "outputs": [
    {
     "name": "stdout",
     "output_type": "stream",
     "text": [
      "Inner product:\n",
      " [[17 52]\n",
      " [13 62]]\n",
      "Outer product:\n",
      " [[ 2 10  0 10 20  6]\n",
      " [ 3 15  0 15 30  9]\n",
      " [ 4 20  0 20 40 12]\n",
      " [ 3 15  0 15 30  9]\n",
      " [ 2 10  0 10 20  6]\n",
      " [ 9 45  0 45 90 27]]\n",
      "Cartesian Product of matrices x and y:\n",
      " [[-20   4   7]\n",
      " [-84  36  20]]\n"
     ]
    }
   ],
   "source": [
    "import numpy as np\n",
    "x = np.array([[2, 3, 4], [3, 2, 9]])\n",
    "y = np.array([[1, 5, 0], [5, 10, 3]])\n",
    "print(\"Inner product:\\n\",np.inner(x,y))\n",
    "print(\"Outer product:\\n\",np.outer(x,y))\n",
    "print(\"Cartesian Product of matrices x and y:\\n\",np.cross(x,y))\n"
   ]
  },
  {
   "cell_type": "code",
   "execution_count": 3,
   "id": "bf768eb2-0895-4d55-a751-4158e627afc9",
   "metadata": {},
   "outputs": [
    {
     "name": "stdout",
     "output_type": "stream",
     "text": [
      "Absolute Value:\n",
      " [[1 2 3]\n",
      " [4 5 6]]\n"
     ]
    }
   ],
   "source": [
    "import numpy as np\n",
    "array = np.array([[1, -2, 3], [-4, 5, -6]])\n",
    "# i. Element-wise absolute value\n",
    "abs_array = np.abs(array)\n",
    "print(\"Absolute Value:\\n\", abs_array)\n"
   ]
  },
  {
   "cell_type": "code",
   "execution_count": 4,
   "id": "004ea487-a235-484a-b175-924ca3b3ccb0",
   "metadata": {},
   "outputs": [
    {
     "name": "stdout",
     "output_type": "stream",
     "text": [
      "\n",
      "Percentiles of Flattened Array: [-3.5 -0.5  2.5]\n",
      "Percentiles for each Column:\n",
      " [[-2.75 -0.25 -3.75]\n",
      " [-1.5   1.5  -1.5 ]\n",
      " [-0.25  3.25  0.75]]\n",
      "Percentiles for each Row:\n",
      " [[-0.5 -5. ]\n",
      " [ 1.  -4. ]\n",
      " [ 2.   0.5]]\n"
     ]
    }
   ],
   "source": [
    "# ii. Percentiles of the flattened array, for each column, for each row\n",
    "flattened = array.flatten()\n",
    "percentiles_flattened = np.percentile(flattened, [25, 50, 75])\n",
    "\n",
    "percentiles_columns = np.percentile(array, [25, 50, 75], axis=0)\n",
    "percentiles_rows = np.percentile(array, [25, 50, 75], axis=1)\n",
    "\n",
    "print(\"\\nPercentiles of Flattened Array:\", percentiles_flattened)\n",
    "print(\"Percentiles for each Column:\\n\", percentiles_columns)\n",
    "print(\"Percentiles for each Row:\\n\", percentiles_rows)"
   ]
  },
  {
   "cell_type": "code",
   "execution_count": 5,
   "id": "b0e42f92-1991-4223-852c-37a0e539c030",
   "metadata": {},
   "outputs": [
    {
     "name": "stdout",
     "output_type": "stream",
     "text": [
      "\n",
      "Mean, Median, Standard Deviation of Flattened Array:\n",
      "Mean: -0.5 Median: -0.5 Std Dev: 3.8622100754188224\n",
      "\n",
      "Mean, Median, Standard Deviation for each Column:\n",
      "Mean: [-1.5  1.5 -1.5] Median: [-1.5  1.5 -1.5] Std Dev: [2.5 3.5 4.5]\n",
      "\n",
      "Mean, Median, Standard Deviation for each Row:\n",
      "Mean: [ 0.66666667 -1.66666667] Median: [ 1. -4.] Std Dev: [2.05480467 4.78423336]\n"
     ]
    }
   ],
   "source": [
    "# iii. Mean, Median, and Standard Deviation of flattened array, of each column, and each row\n",
    "mean_flattened = np.mean(flattened)\n",
    "median_flattened = np.median(flattened)\n",
    "std_flattened = np.std(flattened)\n",
    "\n",
    "mean_columns = np.mean(array, axis=0)\n",
    "median_columns = np.median(array, axis=0)\n",
    "std_columns = np.std(array, axis=0)\n",
    "\n",
    "mean_rows = np.mean(array, axis=1)\n",
    "median_rows = np.median(array, axis=1)\n",
    "std_rows = np.std(array, axis=1)\n",
    "\n",
    "print(\"\\nMean, Median, Standard Deviation of Flattened Array:\")\n",
    "print(\"Mean:\", mean_flattened, \"Median:\", median_flattened, \"Std Dev:\", std_flattened)\n",
    "\n",
    "print(\"\\nMean, Median, Standard Deviation for each Column:\")\n",
    "print(\"Mean:\", mean_columns, \"Median:\", median_columns, \"Std Dev:\", std_columns)\n",
    "\n",
    "print(\"\\nMean, Median, Standard Deviation for each Row:\")\n",
    "print(\"Mean:\", mean_rows, \"Median:\", median_rows, \"Std Dev:\", std_rows)"
   ]
  },
  {
   "cell_type": "code",
   "execution_count": 6,
   "id": "767b4e88-012a-4ac6-98fa-77a8a8f1d147",
   "metadata": {},
   "outputs": [
    {
     "name": "stdout",
     "output_type": "stream",
     "text": [
      "Sorted array: [ 10  16  16  52  54  62 453]\n",
      "Indices of sorted array: [0 3 4 1 5 2 6]\n",
      "4 smallest elements: [10 16 16 52]\n",
      "5 largest elements: [ 16  52  54  62 453]\n"
     ]
    }
   ],
   "source": [
    "import numpy as np\n",
    "\n",
    "array = np.array([10, 52, 62, 16, 16, 54, 453])\n",
    "\n",
    "# i. Sorted array\n",
    "sorted_array = np.sort(array)\n",
    "print(\"Sorted array:\", sorted_array)\n",
    "\n",
    "# ii. Indices of sorted array\n",
    "sorted_indices = np.argsort(array)\n",
    "print(\"Indices of sorted array:\", sorted_indices)\n",
    "\n",
    "# iii. 4 smallest elements\n",
    "smallest_elements = np.sort(array)[:4]\n",
    "print(\"4 smallest elements:\", smallest_elements)\n",
    "\n",
    "# iv. 5 largest elements\n",
    "largest_elements = np.sort(array)[-5:]\n",
    "print(\"5 largest elements:\", largest_elements)"
   ]
  },
  {
   "cell_type": "code",
   "execution_count": 7,
   "id": "789d1617-e325-4df0-9223-6c4da158de00",
   "metadata": {},
   "outputs": [
    {
     "name": "stdout",
     "output_type": "stream",
     "text": [
      "Integer elements only: [1. 2. 3. 2.]\n",
      "Float elements only: [1.2 2.2]\n"
     ]
    }
   ],
   "source": [
    "array = np.array([1.0, 1.2, 2.2, 2.0, 3.0, 2.0])\n",
    "\n",
    "# i. Integer elements only\n",
    "integer_elements = array[array == np.floor(array)]\n",
    "print(\"Integer elements only:\", integer_elements)\n",
    "\n",
    "# ii. Float elements only (excluding integers)\n",
    "float_elements = array[array != np.floor(array)]\n",
    "print(\"Float elements only:\", float_elements)"
   ]
  }
 ],
 "metadata": {
  "kernelspec": {
   "display_name": "Python 3 (ipykernel)",
   "language": "python",
   "name": "python3"
  },
  "language_info": {
   "codemirror_mode": {
    "name": "ipython",
    "version": 3
   },
   "file_extension": ".py",
   "mimetype": "text/x-python",
   "name": "python",
   "nbconvert_exporter": "python",
   "pygments_lexer": "ipython3",
   "version": "3.11.7"
  }
 },
 "nbformat": 4,
 "nbformat_minor": 5
}
